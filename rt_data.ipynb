{
 "cells": [
  {
   "cell_type": "code",
   "execution_count": 168,
   "metadata": {
    "collapsed": false
   },
   "outputs": [],
   "source": [
    "import string\n",
    "import re\n",
    "import numpy as np\n",
    "import pandas as pd\n",
    "pd.set_option('display.max_colwidth', 1000)\n",
    "\n",
    "import seaborn as sns\n",
    "import matplotlib.pyplot as plt\n",
    "plt.style.use('ggplot')\n",
    "%matplotlib inline\n",
    "\n",
    "from nltk.stem import PorterStemmer\n",
    "from nltk.corpus import stopwords\n",
    "\n",
    "def warn(*args, **kwargs): pass\n",
    "import warnings\n",
    "warnings.warn = warn"
   ]
  },
  {
   "cell_type": "code",
   "execution_count": 169,
   "metadata": {
    "collapsed": false
   },
   "outputs": [
    {
     "name": "stdout",
     "output_type": "stream",
     "text": [
      "<class 'pandas.core.frame.DataFrame'>\n",
      "RangeIndex: 102610 entries, 0 to 102609\n",
      "Data columns (total 2 columns):\n",
      "label    102610 non-null int64\n",
      "text     102610 non-null object\n",
      "dtypes: int64(1), object(1)\n",
      "memory usage: 1.6+ MB\n"
     ]
    }
   ],
   "source": [
    "data=pd.read_csv('data_rt.csv',sep='|')\n",
    "data.info()"
   ]
  },
  {
   "cell_type": "code",
   "execution_count": 170,
   "metadata": {
    "collapsed": false
   },
   "outputs": [
    {
     "data": {
      "text/html": [
       "<div>\n",
       "<table border=\"1\" class=\"dataframe\">\n",
       "  <thead>\n",
       "    <tr style=\"text-align: right;\">\n",
       "      <th></th>\n",
       "      <th>label</th>\n",
       "      <th>text</th>\n",
       "    </tr>\n",
       "  </thead>\n",
       "  <tbody>\n",
       "    <tr>\n",
       "      <th>0</th>\n",
       "      <td>1</td>\n",
       "      <td>To an entire generation of filmgoers, it just might represent the most significant leap in storytelling that they will ever see...</td>\n",
       "    </tr>\n",
       "    <tr>\n",
       "      <th>1</th>\n",
       "      <td>1</td>\n",
       "      <td>Pixar classic is one of the best kids' movies of all time.</td>\n",
       "    </tr>\n",
       "    <tr>\n",
       "      <th>2</th>\n",
       "      <td>1</td>\n",
       "      <td>Apesar de representar um imenso avanço tecnológico, a força do filme reside no carisma de seus personagens e no charme de sua história.</td>\n",
       "    </tr>\n",
       "    <tr>\n",
       "      <th>3</th>\n",
       "      <td>1</td>\n",
       "      <td>When Woody perks up in the opening scene, it's not only the toy cowboy who comes alive - we're watching the rebirth of an art form.</td>\n",
       "    </tr>\n",
       "    <tr>\n",
       "      <th>4</th>\n",
       "      <td>1</td>\n",
       "      <td>Introduced not one but two indelible characters to the pop culture pantheon: cowboy rag-doll Woody (Tom Hanks) and plastic space ranger Buzz Lightyear (Tim Allen). [Blu-ray]</td>\n",
       "    </tr>\n",
       "  </tbody>\n",
       "</table>\n",
       "</div>"
      ],
      "text/plain": [
       "   label  \\\n",
       "0      1   \n",
       "1      1   \n",
       "2      1   \n",
       "3      1   \n",
       "4      1   \n",
       "\n",
       "                                                                                                                                                                            text  \n",
       "0                                             To an entire generation of filmgoers, it just might represent the most significant leap in storytelling that they will ever see...  \n",
       "1                                                                                                                     Pixar classic is one of the best kids' movies of all time.  \n",
       "2                                        Apesar de representar um imenso avanço tecnológico, a força do filme reside no carisma de seus personagens e no charme de sua história.  \n",
       "3                                            When Woody perks up in the opening scene, it's not only the toy cowboy who comes alive - we're watching the rebirth of an art form.  \n",
       "4  Introduced not one but two indelible characters to the pop culture pantheon: cowboy rag-doll Woody (Tom Hanks) and plastic space ranger Buzz Lightyear (Tim Allen). [Blu-ray]  "
      ]
     },
     "execution_count": 170,
     "metadata": {},
     "output_type": "execute_result"
    }
   ],
   "source": [
    "data.head()"
   ]
  },
  {
   "cell_type": "code",
   "execution_count": 171,
   "metadata": {
    "collapsed": false
   },
   "outputs": [],
   "source": [
    "redundant_signs = set(string.punctuation) - set(['.'])\n",
    "\n",
    "def clean_data(string):\n",
    "\n",
    "    string = string.lower()\n",
    "    \n",
    "    # fix haven't|doesn't|shouldn't cases\n",
    "    string = string.replace(\"n't\", \" not\")\n",
    "    string = string.replace(\"'re'\", \" are\")\n",
    "    \n",
    "    # here may be actor's names, types of smth etc. I guess it's redundant info\n",
    "    # let's discuss of necessity of this block\n",
    "    bracket_words = re.findall('([\\(\\[\\{].+?[\\)\\]\\}])', string)\n",
    "    for word in bracket_words:\n",
    "        string = string.replace(''.join(word), \"\")\n",
    "        \n",
    "    # replace redundant_signs\n",
    "    for item in redundant_signs:\n",
    "        string = string.replace(item, ' ')\n",
    "        \n",
    "    # replace digits\n",
    "    string = re.sub('\\d', ' ', string)\n",
    "    # replace two or more dots. 1 dot is remained as it separates sentences\n",
    "    string = re.sub('\\.{1,10}', ' ', string)\n",
    "    # replace one-letter words or just letters\n",
    "    string = re.sub(r\"\\b[a-z]{1}\\b\", ' ', string)\n",
    "    \n",
    "    string = ' '.join(list(filter(None, string.split(' '))))\n",
    "    \n",
    "    return string"
   ]
  },
  {
   "cell_type": "code",
   "execution_count": 172,
   "metadata": {
    "collapsed": true
   },
   "outputs": [],
   "source": [
    "stop_words = list(set(stopwords.words('english')))\n",
    "stemmer = PorterStemmer()"
   ]
  },
  {
   "cell_type": "code",
   "execution_count": 173,
   "metadata": {
    "collapsed": false
   },
   "outputs": [],
   "source": [
    "data['clean_text'] = data['text'].apply(clean_data)"
   ]
  },
  {
   "cell_type": "code",
   "execution_count": 174,
   "metadata": {
    "collapsed": false
   },
   "outputs": [],
   "source": [
    "data['clean_text'] = data['clean_text'].apply(lambda x: ' '.join([item for item in x.split() if item not in stop_words]))"
   ]
  },
  {
   "cell_type": "code",
   "execution_count": 175,
   "metadata": {
    "collapsed": false
   },
   "outputs": [],
   "source": [
    "letters = [x for x in string.ascii_lowercase + '. ']\n",
    "data['is_ascii'] = data['clean_text'].apply(lambda x: set(x).issubset(letters))\n",
    "data['letters'] = data['clean_text'].apply(len)\n",
    "data['words'] = data['clean_text'].apply(lambda x: len(x.split()))\n",
    "data['stemed_text'] = data['clean_text'].apply(lambda x: \" \".join([stemmer.stem(w) for w in x.split()]))\n",
    "data['new_label'] = data['label'].apply(lambda x: '__label__1 ' if x is True else '__label__0 ')"
   ]
  },
  {
   "cell_type": "code",
   "execution_count": 176,
   "metadata": {
    "collapsed": false
   },
   "outputs": [
    {
     "data": {
      "text/html": [
       "<div>\n",
       "<table border=\"1\" class=\"dataframe\">\n",
       "  <thead>\n",
       "    <tr style=\"text-align: right;\">\n",
       "      <th></th>\n",
       "      <th>label</th>\n",
       "      <th>text</th>\n",
       "      <th>clean_text</th>\n",
       "      <th>is_ascii</th>\n",
       "      <th>letters</th>\n",
       "      <th>words</th>\n",
       "      <th>stemed_text</th>\n",
       "      <th>new_label</th>\n",
       "    </tr>\n",
       "  </thead>\n",
       "  <tbody>\n",
       "    <tr>\n",
       "      <th>0</th>\n",
       "      <td>1</td>\n",
       "      <td>To an entire generation of filmgoers, it just might represent the most significant leap in storytelling that they will ever see...</td>\n",
       "      <td>entire generation filmgoers might represent significant leap storytelling ever see</td>\n",
       "      <td>True</td>\n",
       "      <td>82</td>\n",
       "      <td>10</td>\n",
       "      <td>entir gener filmgoer might repres signific leap storytel ever see</td>\n",
       "      <td>__label__0</td>\n",
       "    </tr>\n",
       "    <tr>\n",
       "      <th>1</th>\n",
       "      <td>1</td>\n",
       "      <td>Pixar classic is one of the best kids' movies of all time.</td>\n",
       "      <td>pixar classic one best kids movies time</td>\n",
       "      <td>True</td>\n",
       "      <td>39</td>\n",
       "      <td>7</td>\n",
       "      <td>pixar classic one best kid movi time</td>\n",
       "      <td>__label__0</td>\n",
       "    </tr>\n",
       "    <tr>\n",
       "      <th>2</th>\n",
       "      <td>1</td>\n",
       "      <td>Apesar de representar um imenso avanço tecnológico, a força do filme reside no carisma de seus personagens e no charme de sua história.</td>\n",
       "      <td>apesar de representar um imenso avanço tecnológico força filme reside carisma de seus personagens charme de sua história</td>\n",
       "      <td>False</td>\n",
       "      <td>120</td>\n",
       "      <td>18</td>\n",
       "      <td>apesar de representar um imenso avanço tecnológico força film resid carisma de seu personagen charm de sua história</td>\n",
       "      <td>__label__0</td>\n",
       "    </tr>\n",
       "    <tr>\n",
       "      <th>3</th>\n",
       "      <td>1</td>\n",
       "      <td>When Woody perks up in the opening scene, it's not only the toy cowboy who comes alive - we're watching the rebirth of an art form.</td>\n",
       "      <td>woody perks opening scene toy cowboy comes alive watching rebirth art form</td>\n",
       "      <td>True</td>\n",
       "      <td>74</td>\n",
       "      <td>12</td>\n",
       "      <td>woodi perk open scene toy cowboy come aliv watch rebirth art form</td>\n",
       "      <td>__label__0</td>\n",
       "    </tr>\n",
       "    <tr>\n",
       "      <th>4</th>\n",
       "      <td>1</td>\n",
       "      <td>Introduced not one but two indelible characters to the pop culture pantheon: cowboy rag-doll Woody (Tom Hanks) and plastic space ranger Buzz Lightyear (Tim Allen). [Blu-ray]</td>\n",
       "      <td>introduced one two indelible characters pop culture pantheon cowboy rag doll woody plastic space ranger buzz lightyear</td>\n",
       "      <td>True</td>\n",
       "      <td>118</td>\n",
       "      <td>17</td>\n",
       "      <td>introduc one two indel charact pop cultur pantheon cowboy rag doll woodi plastic space ranger buzz lightyear</td>\n",
       "      <td>__label__0</td>\n",
       "    </tr>\n",
       "  </tbody>\n",
       "</table>\n",
       "</div>"
      ],
      "text/plain": [
       "   label  \\\n",
       "0      1   \n",
       "1      1   \n",
       "2      1   \n",
       "3      1   \n",
       "4      1   \n",
       "\n",
       "                                                                                                                                                                            text  \\\n",
       "0                                             To an entire generation of filmgoers, it just might represent the most significant leap in storytelling that they will ever see...   \n",
       "1                                                                                                                     Pixar classic is one of the best kids' movies of all time.   \n",
       "2                                        Apesar de representar um imenso avanço tecnológico, a força do filme reside no carisma de seus personagens e no charme de sua história.   \n",
       "3                                            When Woody perks up in the opening scene, it's not only the toy cowboy who comes alive - we're watching the rebirth of an art form.   \n",
       "4  Introduced not one but two indelible characters to the pop culture pantheon: cowboy rag-doll Woody (Tom Hanks) and plastic space ranger Buzz Lightyear (Tim Allen). [Blu-ray]   \n",
       "\n",
       "                                                                                                                 clean_text  \\\n",
       "0                                        entire generation filmgoers might represent significant leap storytelling ever see   \n",
       "1                                                                                   pixar classic one best kids movies time   \n",
       "2  apesar de representar um imenso avanço tecnológico força filme reside carisma de seus personagens charme de sua história   \n",
       "3                                                woody perks opening scene toy cowboy comes alive watching rebirth art form   \n",
       "4    introduced one two indelible characters pop culture pantheon cowboy rag doll woody plastic space ranger buzz lightyear   \n",
       "\n",
       "  is_ascii  letters  words  \\\n",
       "0     True       82     10   \n",
       "1     True       39      7   \n",
       "2    False      120     18   \n",
       "3     True       74     12   \n",
       "4     True      118     17   \n",
       "\n",
       "                                                                                                           stemed_text  \\\n",
       "0                                                    entir gener filmgoer might repres signific leap storytel ever see   \n",
       "1                                                                                 pixar classic one best kid movi time   \n",
       "2  apesar de representar um imenso avanço tecnológico força film resid carisma de seu personagen charm de sua história   \n",
       "3                                                    woodi perk open scene toy cowboy come aliv watch rebirth art form   \n",
       "4         introduc one two indel charact pop cultur pantheon cowboy rag doll woodi plastic space ranger buzz lightyear   \n",
       "\n",
       "     new_label  \n",
       "0  __label__0   \n",
       "1  __label__0   \n",
       "2  __label__0   \n",
       "3  __label__0   \n",
       "4  __label__0   "
      ]
     },
     "execution_count": 176,
     "metadata": {},
     "output_type": "execute_result"
    }
   ],
   "source": [
    "data.head()"
   ]
  },
  {
   "cell_type": "code",
   "execution_count": 177,
   "metadata": {
    "collapsed": false
   },
   "outputs": [
    {
     "data": {
      "text/plain": [
       "(100314, 8)"
      ]
     },
     "execution_count": 177,
     "metadata": {},
     "output_type": "execute_result"
    }
   ],
   "source": [
    "data[data['is_ascii'] == True].shape"
   ]
  },
  {
   "cell_type": "code",
   "execution_count": 189,
   "metadata": {
    "collapsed": false
   },
   "outputs": [],
   "source": [
    "data_cleaned = data[data['is_ascii'] == True]\n",
    "data_cleaned = data_cleaned.ix[:, ['new_label', 'stemed_text']]"
   ]
  },
  {
   "cell_type": "code",
   "execution_count": 190,
   "metadata": {
    "collapsed": false
   },
   "outputs": [
    {
     "data": {
      "text/html": [
       "<div>\n",
       "<table border=\"1\" class=\"dataframe\">\n",
       "  <thead>\n",
       "    <tr style=\"text-align: right;\">\n",
       "      <th></th>\n",
       "      <th>new_label</th>\n",
       "      <th>stemed_text</th>\n",
       "    </tr>\n",
       "  </thead>\n",
       "  <tbody>\n",
       "    <tr>\n",
       "      <th>0</th>\n",
       "      <td>__label__0</td>\n",
       "      <td>entir gener filmgoer might repres signific leap storytel ever see</td>\n",
       "    </tr>\n",
       "    <tr>\n",
       "      <th>1</th>\n",
       "      <td>__label__0</td>\n",
       "      <td>pixar classic one best kid movi time</td>\n",
       "    </tr>\n",
       "    <tr>\n",
       "      <th>3</th>\n",
       "      <td>__label__0</td>\n",
       "      <td>woodi perk open scene toy cowboy come aliv watch rebirth art form</td>\n",
       "    </tr>\n",
       "    <tr>\n",
       "      <th>4</th>\n",
       "      <td>__label__0</td>\n",
       "      <td>introduc one two indel charact pop cultur pantheon cowboy rag doll woodi plastic space ranger buzz lightyear</td>\n",
       "    </tr>\n",
       "    <tr>\n",
       "      <th>5</th>\n",
       "      <td>__label__0</td>\n",
       "      <td>easi see virtual everyth good anim right small seed toy stori</td>\n",
       "    </tr>\n",
       "  </tbody>\n",
       "</table>\n",
       "</div>"
      ],
      "text/plain": [
       "     new_label  \\\n",
       "0  __label__0    \n",
       "1  __label__0    \n",
       "3  __label__0    \n",
       "4  __label__0    \n",
       "5  __label__0    \n",
       "\n",
       "                                                                                                    stemed_text  \n",
       "0                                             entir gener filmgoer might repres signific leap storytel ever see  \n",
       "1                                                                          pixar classic one best kid movi time  \n",
       "3                                             woodi perk open scene toy cowboy come aliv watch rebirth art form  \n",
       "4  introduc one two indel charact pop cultur pantheon cowboy rag doll woodi plastic space ranger buzz lightyear  \n",
       "5                                                 easi see virtual everyth good anim right small seed toy stori  "
      ]
     },
     "execution_count": 190,
     "metadata": {},
     "output_type": "execute_result"
    }
   ],
   "source": [
    "data_cleaned.head()"
   ]
  },
  {
   "cell_type": "code",
   "execution_count": 188,
   "metadata": {
    "collapsed": false
   },
   "outputs": [
    {
     "data": {
      "text/plain": [
       "(100314, 2)"
      ]
     },
     "execution_count": 188,
     "metadata": {},
     "output_type": "execute_result"
    }
   ],
   "source": [
    "from fasttext import supervised\n",
    "\n",
    "def learn_ft(dataframe, model_name = 'model', label_prefix='__label__')\n",
    "    classifier = supervised(file_name, model_name, label_prefix=label_prefix)"
   ]
  },
  {
   "cell_type": "code",
   "execution_count": null,
   "metadata": {
    "collapsed": true
   },
   "outputs": [],
   "source": [
    "result = classifier.test('train.txt')\n",
    "\n",
    "print('Precision:', result.precision)\n",
    "print('Recall:', result.recall)\n",
    "print('Number of examples:', result.nexamples)"
   ]
  },
  {
   "cell_type": "code",
   "execution_count": null,
   "metadata": {
    "collapsed": true
   },
   "outputs": [],
   "source": [
    "prediction = classifier.predict_proba(list(data_cleaned['stemed_text']))\n",
    "prediction[:2]"
   ]
  },
  {
   "cell_type": "code",
   "execution_count": null,
   "metadata": {
    "collapsed": true
   },
   "outputs": [],
   "source": [
    "clf.fit(X_train, y_train)\n",
    "\n",
    "print(\"=\"*30)\n",
    "print(name)\n",
    "\n",
    "print('****Results****')\n",
    "train_predictions = clf.predict(X_test)\n",
    "acc = accuracy_score(y_test, train_predictions)\n",
    "print(\"Accuracy: {:.4%}\".format(acc))\n",
    "\n",
    "train_predictions = clf.predict_proba(X_test)\n",
    "ll = log_loss(y_test, train_predictions)\n",
    "print(\"Log Loss: {}\".format(ll))\n",
    "\n",
    "log_entry = pd.DataFrame([[name, acc*100, ll]], columns=log_cols)\n",
    "log = log.append(log_entry)"
   ]
  },
  {
   "cell_type": "code",
   "execution_count": null,
   "metadata": {
    "collapsed": true
   },
   "outputs": [],
   "source": [
    "X = data_cleaned['stemed_text']\n",
    "y = data_cleaned['new_label']"
   ]
  },
  {
   "cell_type": "code",
   "execution_count": null,
   "metadata": {
    "collapsed": true
   },
   "outputs": [],
   "source": [
    "from sklearn.model_selection import StratifiedShuffleSplit\n",
    "sss = StratifiedShuffleSplit(n_splits=1, test_size=0.2, random_state=42)\n",
    "\n",
    "train_index, test_index = list(sss.split(X, y))[0]\n",
    "X_train, X_test = X[train_index], X[test_index]\n",
    "y_train, y_test = y[train_index], y[test_index]"
   ]
  }
 ],
 "metadata": {
  "anaconda-cloud": {},
  "kernelspec": {
   "display_name": "Python [conda root]",
   "language": "python",
   "name": "conda-root-py"
  },
  "language_info": {
   "codemirror_mode": {
    "name": "ipython",
    "version": 3
   },
   "file_extension": ".py",
   "mimetype": "text/x-python",
   "name": "python",
   "nbconvert_exporter": "python",
   "pygments_lexer": "ipython3",
   "version": "3.5.2"
  }
 },
 "nbformat": 4,
 "nbformat_minor": 1
}
