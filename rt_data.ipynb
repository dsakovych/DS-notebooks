{
 "cells": [
  {
   "cell_type": "code",
   "execution_count": 249,
   "metadata": {
    "collapsed": true
   },
   "outputs": [],
   "source": [
    "import string\n",
    "import re\n",
    "import numpy as np\n",
    "import pandas as pd\n",
    "pd.set_option('display.max_colwidth', 1000)\n",
    "\n",
    "import seaborn as sns\n",
    "import matplotlib.pyplot as plt\n",
    "plt.style.use('ggplot')\n",
    "%matplotlib inline\n",
    "\n",
    "def warn(*args, **kwargs): pass\n",
    "import warnings\n",
    "warnings.warn = warn"
   ]
  },
  {
   "cell_type": "code",
   "execution_count": 250,
   "metadata": {
    "collapsed": false
   },
   "outputs": [
    {
     "name": "stdout",
     "output_type": "stream",
     "text": [
      "<class 'pandas.core.frame.DataFrame'>\n",
      "RangeIndex: 102610 entries, 0 to 102609\n",
      "Data columns (total 2 columns):\n",
      "label    102610 non-null int64\n",
      "text     102610 non-null object\n",
      "dtypes: int64(1), object(1)\n",
      "memory usage: 1.6+ MB\n"
     ]
    }
   ],
   "source": [
    "data=pd.read_csv('data_rt.csv',sep='|')\n",
    "data.info()"
   ]
  },
  {
   "cell_type": "code",
   "execution_count": 251,
   "metadata": {
    "collapsed": false
   },
   "outputs": [
    {
     "data": {
      "text/html": [
       "<div>\n",
       "<table border=\"1\" class=\"dataframe\">\n",
       "  <thead>\n",
       "    <tr style=\"text-align: right;\">\n",
       "      <th></th>\n",
       "      <th>label</th>\n",
       "      <th>text</th>\n",
       "    </tr>\n",
       "  </thead>\n",
       "  <tbody>\n",
       "    <tr>\n",
       "      <th>0</th>\n",
       "      <td>1</td>\n",
       "      <td>To an entire generation of filmgoers, it just might represent the most significant leap in storytelling that they will ever see...</td>\n",
       "    </tr>\n",
       "    <tr>\n",
       "      <th>1</th>\n",
       "      <td>1</td>\n",
       "      <td>Pixar classic is one of the best kids' movies of all time.</td>\n",
       "    </tr>\n",
       "    <tr>\n",
       "      <th>2</th>\n",
       "      <td>1</td>\n",
       "      <td>Apesar de representar um imenso avanço tecnológico, a força do filme reside no carisma de seus personagens e no charme de sua história.</td>\n",
       "    </tr>\n",
       "    <tr>\n",
       "      <th>3</th>\n",
       "      <td>1</td>\n",
       "      <td>When Woody perks up in the opening scene, it's not only the toy cowboy who comes alive - we're watching the rebirth of an art form.</td>\n",
       "    </tr>\n",
       "    <tr>\n",
       "      <th>4</th>\n",
       "      <td>1</td>\n",
       "      <td>Introduced not one but two indelible characters to the pop culture pantheon: cowboy rag-doll Woody (Tom Hanks) and plastic space ranger Buzz Lightyear (Tim Allen). [Blu-ray]</td>\n",
       "    </tr>\n",
       "  </tbody>\n",
       "</table>\n",
       "</div>"
      ],
      "text/plain": [
       "   label  \\\n",
       "0      1   \n",
       "1      1   \n",
       "2      1   \n",
       "3      1   \n",
       "4      1   \n",
       "\n",
       "                                                                                                                                                                            text  \n",
       "0                                             To an entire generation of filmgoers, it just might represent the most significant leap in storytelling that they will ever see...  \n",
       "1                                                                                                                     Pixar classic is one of the best kids' movies of all time.  \n",
       "2                                        Apesar de representar um imenso avanço tecnológico, a força do filme reside no carisma de seus personagens e no charme de sua história.  \n",
       "3                                            When Woody perks up in the opening scene, it's not only the toy cowboy who comes alive - we're watching the rebirth of an art form.  \n",
       "4  Introduced not one but two indelible characters to the pop culture pantheon: cowboy rag-doll Woody (Tom Hanks) and plastic space ranger Buzz Lightyear (Tim Allen). [Blu-ray]  "
      ]
     },
     "execution_count": 251,
     "metadata": {},
     "output_type": "execute_result"
    }
   ],
   "source": [
    "data.head()"
   ]
  },
  {
   "cell_type": "code",
   "execution_count": 252,
   "metadata": {
    "collapsed": false
   },
   "outputs": [],
   "source": [
    "#nums = [str(x) for x in range(10)]\n",
    "nums = '1234567890'\n",
    "letters = string.ascii_lowercase\n",
    "\n",
    "\n",
    "def non_ascii(string):\n",
    "    pass"
   ]
  },
  {
   "cell_type": "code",
   "execution_count": 253,
   "metadata": {
    "collapsed": false
   },
   "outputs": [],
   "source": [
    "redundant_signs = ['!', '?', ',', '+', ':', ';', '%', '-', '–', '—', '/', '\\\\', \n",
    "                   '(', ')', '»', '«', \"'\", '\"', '_', '*', '&', '$', '=']\n",
    "\n",
    "#string = \"There's no denying 3D adds extra texture to Pixar's seminal 1995 buddy movie, emphasising Buzz and Woody's toy's-eye- view of the world.\"\n",
    "#string1 = \"As such Toy Story in 3D is never overwhelming. Nor is it tedious, as many recent 3D vehicles have come too close for comfort to.\"\n",
    "#string2 = \"The 3-D viewing doesn't make much difference...but it is a joy to see these superb films back on the big screen, even after dozens of DVD viewings.\"\n",
    "#string3 = \"Introduced not one but two indelible characters to the pop culture pantheon: cowboy rag-doll Woody (Tom Hanks) and plastic space ranger Buzz Lightyear (Tim Allen). [Blu-ray]\"\n",
    "\n",
    "def clean_data(string):\n",
    "\n",
    "    string = string.lower()\n",
    "    \n",
    "    # fix haven't|doesn't|shouldn't cases\n",
    "    string = string.replace(\"n't\", \" not\")\n",
    "    \n",
    "    # here may be actor's names, types of smth etc. I guess it's redundant info\n",
    "    # let's discuss of necessity of this block\n",
    "    bracket_words = re.findall('([\\(\\[\\{].+?[\\)\\]\\}])', string)\n",
    "    for word in bracket_words:\n",
    "        string = string.replace(''.join(word), \"\")\n",
    "        \n",
    "    # replace redundant_signs\n",
    "    for item in redundant_signs:\n",
    "        string = string.replace(item, ' ')\n",
    "    \n",
    "    # replace digits\n",
    "    string = re.sub('\\d', ' ', string)\n",
    "    # replace two or more dots. 1 dot is remained as it separates sentences\n",
    "    string = re.sub('\\.{1,10}', ' ', string)\n",
    "    # replace one-letter words or just letters\n",
    "    string = re.sub(r\"\\b[a-z]{1}\\b\", ' ', string)\n",
    "    \n",
    "    string = ' '.join(list(filter(None, string.split(' '))))\n",
    "    \n",
    "    return string"
   ]
  },
  {
   "cell_type": "code",
   "execution_count": 254,
   "metadata": {
    "collapsed": false
   },
   "outputs": [],
   "source": [
    "data['clean_text'] = data['text'].apply(clean_data)"
   ]
  },
  {
   "cell_type": "code",
   "execution_count": 255,
   "metadata": {
    "collapsed": false
   },
   "outputs": [],
   "source": [
    "letters = [x for x in string.ascii_lowercase + '. ']\n",
    "data['is_ascii'] = data['clean_text'].apply(lambda x: set(x).issubset(letters))"
   ]
  },
  {
   "cell_type": "code",
   "execution_count": 256,
   "metadata": {
    "collapsed": false
   },
   "outputs": [
    {
     "data": {
      "text/html": [
       "<div>\n",
       "<table border=\"1\" class=\"dataframe\">\n",
       "  <thead>\n",
       "    <tr style=\"text-align: right;\">\n",
       "      <th></th>\n",
       "      <th>label</th>\n",
       "      <th>text</th>\n",
       "      <th>clean_text</th>\n",
       "      <th>is_ascii</th>\n",
       "    </tr>\n",
       "  </thead>\n",
       "  <tbody>\n",
       "    <tr>\n",
       "      <th>0</th>\n",
       "      <td>1</td>\n",
       "      <td>To an entire generation of filmgoers, it just might represent the most significant leap in storytelling that they will ever see...</td>\n",
       "      <td>to an entire generation of filmgoers it just might represent the most significant leap in storytelling that they will ever see</td>\n",
       "      <td>True</td>\n",
       "    </tr>\n",
       "    <tr>\n",
       "      <th>1</th>\n",
       "      <td>1</td>\n",
       "      <td>Pixar classic is one of the best kids' movies of all time.</td>\n",
       "      <td>pixar classic is one of the best kids movies of all time</td>\n",
       "      <td>True</td>\n",
       "    </tr>\n",
       "    <tr>\n",
       "      <th>2</th>\n",
       "      <td>1</td>\n",
       "      <td>Apesar de representar um imenso avanço tecnológico, a força do filme reside no carisma de seus personagens e no charme de sua história.</td>\n",
       "      <td>apesar de representar um imenso avanço tecnológico força do filme reside no carisma de seus personagens no charme de sua história</td>\n",
       "      <td>False</td>\n",
       "    </tr>\n",
       "    <tr>\n",
       "      <th>3</th>\n",
       "      <td>1</td>\n",
       "      <td>When Woody perks up in the opening scene, it's not only the toy cowboy who comes alive - we're watching the rebirth of an art form.</td>\n",
       "      <td>when woody perks up in the opening scene it not only the toy cowboy who comes alive we re watching the rebirth of an art form</td>\n",
       "      <td>True</td>\n",
       "    </tr>\n",
       "    <tr>\n",
       "      <th>4</th>\n",
       "      <td>1</td>\n",
       "      <td>Introduced not one but two indelible characters to the pop culture pantheon: cowboy rag-doll Woody (Tom Hanks) and plastic space ranger Buzz Lightyear (Tim Allen). [Blu-ray]</td>\n",
       "      <td>introduced not one but two indelible characters to the pop culture pantheon cowboy rag doll woody and plastic space ranger buzz lightyear</td>\n",
       "      <td>True</td>\n",
       "    </tr>\n",
       "  </tbody>\n",
       "</table>\n",
       "</div>"
      ],
      "text/plain": [
       "   label  \\\n",
       "0      1   \n",
       "1      1   \n",
       "2      1   \n",
       "3      1   \n",
       "4      1   \n",
       "\n",
       "                                                                                                                                                                            text  \\\n",
       "0                                             To an entire generation of filmgoers, it just might represent the most significant leap in storytelling that they will ever see...   \n",
       "1                                                                                                                     Pixar classic is one of the best kids' movies of all time.   \n",
       "2                                        Apesar de representar um imenso avanço tecnológico, a força do filme reside no carisma de seus personagens e no charme de sua história.   \n",
       "3                                            When Woody perks up in the opening scene, it's not only the toy cowboy who comes alive - we're watching the rebirth of an art form.   \n",
       "4  Introduced not one but two indelible characters to the pop culture pantheon: cowboy rag-doll Woody (Tom Hanks) and plastic space ranger Buzz Lightyear (Tim Allen). [Blu-ray]   \n",
       "\n",
       "                                                                                                                                  clean_text  \\\n",
       "0             to an entire generation of filmgoers it just might represent the most significant leap in storytelling that they will ever see   \n",
       "1                                                                                   pixar classic is one of the best kids movies of all time   \n",
       "2          apesar de representar um imenso avanço tecnológico força do filme reside no carisma de seus personagens no charme de sua história   \n",
       "3              when woody perks up in the opening scene it not only the toy cowboy who comes alive we re watching the rebirth of an art form   \n",
       "4  introduced not one but two indelible characters to the pop culture pantheon cowboy rag doll woody and plastic space ranger buzz lightyear   \n",
       "\n",
       "  is_ascii  \n",
       "0     True  \n",
       "1     True  \n",
       "2    False  \n",
       "3     True  \n",
       "4     True  "
      ]
     },
     "execution_count": 256,
     "metadata": {},
     "output_type": "execute_result"
    }
   ],
   "source": [
    "data.head()"
   ]
  },
  {
   "cell_type": "code",
   "execution_count": 257,
   "metadata": {
    "collapsed": false
   },
   "outputs": [
    {
     "data": {
      "text/html": [
       "<div>\n",
       "<table border=\"1\" class=\"dataframe\">\n",
       "  <thead>\n",
       "    <tr style=\"text-align: right;\">\n",
       "      <th></th>\n",
       "      <th>label</th>\n",
       "      <th>text</th>\n",
       "      <th>clean_text</th>\n",
       "      <th>is_ascii</th>\n",
       "    </tr>\n",
       "  </thead>\n",
       "  <tbody>\n",
       "    <tr>\n",
       "      <th>2</th>\n",
       "      <td>1</td>\n",
       "      <td>Apesar de representar um imenso avanço tecnológico, a força do filme reside no carisma de seus personagens e no charme de sua história.</td>\n",
       "      <td>apesar de representar um imenso avanço tecnológico força do filme reside no carisma de seus personagens no charme de sua história</td>\n",
       "      <td>False</td>\n",
       "    </tr>\n",
       "    <tr>\n",
       "      <th>102</th>\n",
       "      <td>1</td>\n",
       "      <td>It's a perfect soufflé of a movie -- or to borrow an apt phrase from Ian Anderson, it's a 'breath of champagne on a sparkling night.'</td>\n",
       "      <td>it perfect soufflé of movie or to borrow an apt phrase from ian anderson it breath of champagne on sparkling night</td>\n",
       "      <td>False</td>\n",
       "    </tr>\n",
       "    <tr>\n",
       "      <th>293</th>\n",
       "      <td>0</td>\n",
       "      <td>O episódio dirigido por Taratino, que funciona como uma grande preparação para uma excelente tirada final, é memorável. Pena que temos que assistir a uma hora de besteiras para chegar até ele.</td>\n",
       "      <td>episódio dirigido por taratino que funciona como uma grande preparação para uma excelente tirada final é memorável pena que temos que assistir uma hora de besteiras para chegar até ele</td>\n",
       "      <td>False</td>\n",
       "    </tr>\n",
       "    <tr>\n",
       "      <th>474</th>\n",
       "      <td>0</td>\n",
       "      <td>Soando como um mero veículo para a beleza de Gong Li, este aspirante a Ajuste Final conta com uma bela fotografia (com exceção da noite americana pavorosa), mas nada mais, revelando-se o pior filme da carreira de Yimou.</td>\n",
       "      <td>soando como um mero veículo para beleza de gong li este aspirante ajuste final conta com uma bela fotografia mas nada mais revelando se pior filme da carreira de yimou</td>\n",
       "      <td>False</td>\n",
       "    </tr>\n",
       "    <tr>\n",
       "      <th>654</th>\n",
       "      <td>1</td>\n",
       "      <td>Pulled off with just the right spatial élan</td>\n",
       "      <td>pulled off with just the right spatial élan</td>\n",
       "      <td>False</td>\n",
       "    </tr>\n",
       "  </tbody>\n",
       "</table>\n",
       "</div>"
      ],
      "text/plain": [
       "     label  \\\n",
       "2        1   \n",
       "102      1   \n",
       "293      0   \n",
       "474      0   \n",
       "654      1   \n",
       "\n",
       "                                                                                                                                                                                                                            text  \\\n",
       "2                                                                                        Apesar de representar um imenso avanço tecnológico, a força do filme reside no carisma de seus personagens e no charme de sua história.   \n",
       "102                                                                                        It's a perfect soufflé of a movie -- or to borrow an apt phrase from Ian Anderson, it's a 'breath of champagne on a sparkling night.'   \n",
       "293                             O episódio dirigido por Taratino, que funciona como uma grande preparação para uma excelente tirada final, é memorável. Pena que temos que assistir a uma hora de besteiras para chegar até ele.   \n",
       "474  Soando como um mero veículo para a beleza de Gong Li, este aspirante a Ajuste Final conta com uma bela fotografia (com exceção da noite americana pavorosa), mas nada mais, revelando-se o pior filme da carreira de Yimou.   \n",
       "654                                                                                                                                                                                  Pulled off with just the right spatial élan   \n",
       "\n",
       "                                                                                                                                                                                   clean_text  \\\n",
       "2                                                           apesar de representar um imenso avanço tecnológico força do filme reside no carisma de seus personagens no charme de sua história   \n",
       "102                                                                        it perfect soufflé of movie or to borrow an apt phrase from ian anderson it breath of champagne on sparkling night   \n",
       "293  episódio dirigido por taratino que funciona como uma grande preparação para uma excelente tirada final é memorável pena que temos que assistir uma hora de besteiras para chegar até ele   \n",
       "474                   soando como um mero veículo para beleza de gong li este aspirante ajuste final conta com uma bela fotografia mas nada mais revelando se pior filme da carreira de yimou   \n",
       "654                                                                                                                                               pulled off with just the right spatial élan   \n",
       "\n",
       "    is_ascii  \n",
       "2      False  \n",
       "102    False  \n",
       "293    False  \n",
       "474    False  \n",
       "654    False  "
      ]
     },
     "execution_count": 257,
     "metadata": {},
     "output_type": "execute_result"
    }
   ],
   "source": [
    "data[data['is_ascii'] == False].head()"
   ]
  },
  {
   "cell_type": "code",
   "execution_count": 258,
   "metadata": {
    "collapsed": false
   },
   "outputs": [
    {
     "name": "stdout",
     "output_type": "stream",
     "text": [
      "<class 'pandas.core.frame.DataFrame'>\n",
      "Int64Index: 100180 entries, 0 to 102609\n",
      "Data columns (total 2 columns):\n",
      "label         100180 non-null int64\n",
      "clean_text    100180 non-null object\n",
      "dtypes: int64(1), object(1)\n",
      "memory usage: 2.3+ MB\n"
     ]
    }
   ],
   "source": [
    "data_cleaned = data[data['is_ascii'] == True]\n",
    "data_cleaned.drop(labels=['is_ascii', 'text'], axis=1, inplace=True)\n",
    "data_cleaned.info()"
   ]
  },
  {
   "cell_type": "code",
   "execution_count": 259,
   "metadata": {
    "collapsed": false
   },
   "outputs": [
    {
     "data": {
      "text/html": [
       "<div>\n",
       "<table border=\"1\" class=\"dataframe\">\n",
       "  <thead>\n",
       "    <tr style=\"text-align: right;\">\n",
       "      <th></th>\n",
       "      <th>label</th>\n",
       "      <th>clean_text</th>\n",
       "    </tr>\n",
       "  </thead>\n",
       "  <tbody>\n",
       "    <tr>\n",
       "      <th>0</th>\n",
       "      <td>1</td>\n",
       "      <td>to an entire generation of filmgoers it just might represent the most significant leap in storytelling that they will ever see</td>\n",
       "    </tr>\n",
       "    <tr>\n",
       "      <th>1</th>\n",
       "      <td>1</td>\n",
       "      <td>pixar classic is one of the best kids movies of all time</td>\n",
       "    </tr>\n",
       "    <tr>\n",
       "      <th>3</th>\n",
       "      <td>1</td>\n",
       "      <td>when woody perks up in the opening scene it not only the toy cowboy who comes alive we re watching the rebirth of an art form</td>\n",
       "    </tr>\n",
       "    <tr>\n",
       "      <th>4</th>\n",
       "      <td>1</td>\n",
       "      <td>introduced not one but two indelible characters to the pop culture pantheon cowboy rag doll woody and plastic space ranger buzz lightyear</td>\n",
       "    </tr>\n",
       "    <tr>\n",
       "      <th>5</th>\n",
       "      <td>1</td>\n",
       "      <td>it is easy to see how virtually everything that is good in animation right now has some small seed in toy story</td>\n",
       "    </tr>\n",
       "  </tbody>\n",
       "</table>\n",
       "</div>"
      ],
      "text/plain": [
       "   label  \\\n",
       "0      1   \n",
       "1      1   \n",
       "3      1   \n",
       "4      1   \n",
       "5      1   \n",
       "\n",
       "                                                                                                                                  clean_text  \n",
       "0             to an entire generation of filmgoers it just might represent the most significant leap in storytelling that they will ever see  \n",
       "1                                                                                   pixar classic is one of the best kids movies of all time  \n",
       "3              when woody perks up in the opening scene it not only the toy cowboy who comes alive we re watching the rebirth of an art form  \n",
       "4  introduced not one but two indelible characters to the pop culture pantheon cowboy rag doll woody and plastic space ranger buzz lightyear  \n",
       "5                            it is easy to see how virtually everything that is good in animation right now has some small seed in toy story  "
      ]
     },
     "execution_count": 259,
     "metadata": {},
     "output_type": "execute_result"
    }
   ],
   "source": [
    "data_cleaned.head()"
   ]
  },
  {
   "cell_type": "code",
   "execution_count": 261,
   "metadata": {
    "collapsed": true
   },
   "outputs": [],
   "source": [
    "from sklearn.feature_extraction.text import CountVectorizer\n",
    "\n",
    "vectorizer = CountVectorizer(analyzer = \"word\",   \n",
    "                             tokenizer = None,    \n",
    "                             preprocessor = None, \n",
    "                             stop_words = None,   \n",
    "                             max_features = 5000) \n"
   ]
  },
  {
   "cell_type": "code",
   "execution_count": null,
   "metadata": {
    "collapsed": false
   },
   "outputs": [],
   "source": []
  },
  {
   "cell_type": "code",
   "execution_count": null,
   "metadata": {
    "collapsed": true
   },
   "outputs": [],
   "source": []
  }
 ],
 "metadata": {
  "anaconda-cloud": {},
  "kernelspec": {
   "display_name": "Python [conda root]",
   "language": "python",
   "name": "conda-root-py"
  },
  "language_info": {
   "codemirror_mode": {
    "name": "ipython",
    "version": 3
   },
   "file_extension": ".py",
   "mimetype": "text/x-python",
   "name": "python",
   "nbconvert_exporter": "python",
   "pygments_lexer": "ipython3",
   "version": "3.5.2"
  }
 },
 "nbformat": 4,
 "nbformat_minor": 1
}
