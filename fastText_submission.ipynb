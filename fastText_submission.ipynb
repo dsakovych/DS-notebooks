{
 "cells": [
  {
   "cell_type": "code",
   "execution_count": 15,
   "metadata": {
    "collapsed": true
   },
   "outputs": [],
   "source": [
    "import string\n",
    "import re\n",
    "import pandas as pd\n",
    "import time\n",
    "\n",
    "from nltk.stem import PorterStemmer\n",
    "from nltk.corpus import stopwords\n",
    "\n",
    "from sklearn.model_selection import StratifiedShuffleSplit\n",
    "from sklearn.metrics import accuracy_score, log_loss\n",
    "from fasttext import supervised, load_model"
   ]
  },
  {
   "cell_type": "markdown",
   "metadata": {},
   "source": [
    "### Loading data"
   ]
  },
  {
   "cell_type": "code",
   "execution_count": 16,
   "metadata": {
    "collapsed": false
   },
   "outputs": [
    {
     "data": {
      "text/html": [
       "<div>\n",
       "<table border=\"1\" class=\"dataframe\">\n",
       "  <thead>\n",
       "    <tr style=\"text-align: right;\">\n",
       "      <th></th>\n",
       "      <th>label</th>\n",
       "      <th>text</th>\n",
       "    </tr>\n",
       "  </thead>\n",
       "  <tbody>\n",
       "    <tr>\n",
       "      <th>0</th>\n",
       "      <td>1</td>\n",
       "      <td>To an entire generation of filmgoers, it just ...</td>\n",
       "    </tr>\n",
       "    <tr>\n",
       "      <th>1</th>\n",
       "      <td>1</td>\n",
       "      <td>Pixar classic is one of the best kids' movies ...</td>\n",
       "    </tr>\n",
       "    <tr>\n",
       "      <th>2</th>\n",
       "      <td>1</td>\n",
       "      <td>Apesar de representar um imenso avanço tecnoló...</td>\n",
       "    </tr>\n",
       "    <tr>\n",
       "      <th>3</th>\n",
       "      <td>1</td>\n",
       "      <td>When Woody perks up in the opening scene, it's...</td>\n",
       "    </tr>\n",
       "    <tr>\n",
       "      <th>4</th>\n",
       "      <td>1</td>\n",
       "      <td>Introduced not one but two indelible character...</td>\n",
       "    </tr>\n",
       "  </tbody>\n",
       "</table>\n",
       "</div>"
      ],
      "text/plain": [
       "   label                                               text\n",
       "0      1  To an entire generation of filmgoers, it just ...\n",
       "1      1  Pixar classic is one of the best kids' movies ...\n",
       "2      1  Apesar de representar um imenso avanço tecnoló...\n",
       "3      1  When Woody perks up in the opening scene, it's...\n",
       "4      1  Introduced not one but two indelible character..."
      ]
     },
     "execution_count": 16,
     "metadata": {},
     "output_type": "execute_result"
    }
   ],
   "source": [
    "data_rt = pd.read_csv('reviews_rt_all.csv',sep='|')\n",
    "data_rt.head()\n",
    "# data_rt.info()"
   ]
  },
  {
   "cell_type": "code",
   "execution_count": 17,
   "metadata": {
    "collapsed": false
   },
   "outputs": [
    {
     "data": {
      "text/html": [
       "<div>\n",
       "<table border=\"1\" class=\"dataframe\">\n",
       "  <thead>\n",
       "    <tr style=\"text-align: right;\">\n",
       "      <th></th>\n",
       "      <th>label</th>\n",
       "      <th>text</th>\n",
       "    </tr>\n",
       "  </thead>\n",
       "  <tbody>\n",
       "    <tr>\n",
       "      <th>0</th>\n",
       "      <td>0</td>\n",
       "      <td>Once again Mr. Costner has dragged out a movie...</td>\n",
       "    </tr>\n",
       "    <tr>\n",
       "      <th>1</th>\n",
       "      <td>0</td>\n",
       "      <td>This is an example of why the majority of acti...</td>\n",
       "    </tr>\n",
       "    <tr>\n",
       "      <th>2</th>\n",
       "      <td>0</td>\n",
       "      <td>First of all I hate those moronic rappers, who...</td>\n",
       "    </tr>\n",
       "    <tr>\n",
       "      <th>3</th>\n",
       "      <td>0</td>\n",
       "      <td>Not even the Beatles could write songs everyon...</td>\n",
       "    </tr>\n",
       "    <tr>\n",
       "      <th>4</th>\n",
       "      <td>0</td>\n",
       "      <td>Brass pictures (movies is not a fitting word f...</td>\n",
       "    </tr>\n",
       "  </tbody>\n",
       "</table>\n",
       "</div>"
      ],
      "text/plain": [
       "   label                                               text\n",
       "0      0  Once again Mr. Costner has dragged out a movie...\n",
       "1      0  This is an example of why the majority of acti...\n",
       "2      0  First of all I hate those moronic rappers, who...\n",
       "3      0  Not even the Beatles could write songs everyon...\n",
       "4      0  Brass pictures (movies is not a fitting word f..."
      ]
     },
     "execution_count": 17,
     "metadata": {},
     "output_type": "execute_result"
    }
   ],
   "source": [
    "data_imdb = pd.read_csv('imdb_small.csv',sep='|')\n",
    "data_imdb.head()\n",
    "# data_imdb.info()"
   ]
  },
  {
   "cell_type": "markdown",
   "metadata": {},
   "source": [
    "### Processing data\n",
    "\n",
    "* To make text look more reasonable, we fixed haven't|doesn't|shouldn't cases\n",
    "* Also, as same actors can play both in good and bad movies we attempted to remove them (at least such cases when their names are in brackets). So we revomed all texts that are presented in brackets.\n",
    "* After that we removed digits, special signs and one-letter words"
   ]
  },
  {
   "cell_type": "code",
   "execution_count": 5,
   "metadata": {
    "collapsed": false
   },
   "outputs": [],
   "source": [
    "redundant_signs = set(string.punctuation) - set(['.'])\n",
    "letters = [x for x in string.ascii_lowercase + '. ']\n",
    "\n",
    "def clean_data(inp_str):\n",
    "    inp_str = inp_str.lower()\n",
    "\n",
    "    # fix haven't|doesn't|shouldn't cases\n",
    "    inp_str = inp_str.replace(\"n't\", \" not\")\n",
    "    inp_str = inp_str.replace(\"'re'\", \" are\")\n",
    "\n",
    "    # here may be actor's names, types of smth etc. I guess it's redundant info\n",
    "    # let's discuss of necessity of this block\n",
    "    bracket_words = re.findall('([\\(\\[\\{].+?[\\)\\]\\}])', inp_str)\n",
    "    for word in bracket_words:\n",
    "        inp_str = inp_str.replace(''.join(word), \"\")\n",
    "\n",
    "    # replace redundant_signs\n",
    "    for item in redundant_signs:\n",
    "        inp_str = inp_str.replace(item, ' ')\n",
    "\n",
    "    # replace digits\n",
    "    inp_str = re.sub('\\d', ' ', inp_str)\n",
    "    # replace two or more dots. 1 dot is remained as it separates sentences\n",
    "    inp_str = re.sub('\\.{1,10}', ' ', inp_str)\n",
    "    # replace one-letter words or just letters\n",
    "    inp_str = re.sub(r\"\\b[a-z]{1}\\b\", ' ', inp_str)\n",
    "\n",
    "    return ' '.join(list(filter(None, inp_str.split(' '))))"
   ]
  },
  {
   "cell_type": "code",
   "execution_count": 23,
   "metadata": {
    "collapsed": false
   },
   "outputs": [
    {
     "name": "stdout",
     "output_type": "stream",
     "text": [
      "(50000, 3)\n"
     ]
    },
    {
     "data": {
      "text/html": [
       "<div>\n",
       "<table border=\"1\" class=\"dataframe\">\n",
       "  <thead>\n",
       "    <tr style=\"text-align: right;\">\n",
       "      <th></th>\n",
       "      <th>label</th>\n",
       "      <th>text</th>\n",
       "      <th>clean_text</th>\n",
       "    </tr>\n",
       "  </thead>\n",
       "  <tbody>\n",
       "    <tr>\n",
       "      <th>0</th>\n",
       "      <td>0</td>\n",
       "      <td>Once again Mr. Costner has dragged out a movie...</td>\n",
       "      <td>once again mr costner has dragged out movie fo...</td>\n",
       "    </tr>\n",
       "    <tr>\n",
       "      <th>1</th>\n",
       "      <td>0</td>\n",
       "      <td>This is an example of why the majority of acti...</td>\n",
       "      <td>this is an example of why the majority of acti...</td>\n",
       "    </tr>\n",
       "    <tr>\n",
       "      <th>2</th>\n",
       "      <td>0</td>\n",
       "      <td>First of all I hate those moronic rappers, who...</td>\n",
       "      <td>first of all hate those moronic rappers who co...</td>\n",
       "    </tr>\n",
       "    <tr>\n",
       "      <th>3</th>\n",
       "      <td>0</td>\n",
       "      <td>Not even the Beatles could write songs everyon...</td>\n",
       "      <td>not even the beatles could write songs everyon...</td>\n",
       "    </tr>\n",
       "    <tr>\n",
       "      <th>4</th>\n",
       "      <td>0</td>\n",
       "      <td>Brass pictures (movies is not a fitting word f...</td>\n",
       "      <td>brass pictures really are somewhat brassy thei...</td>\n",
       "    </tr>\n",
       "  </tbody>\n",
       "</table>\n",
       "</div>"
      ],
      "text/plain": [
       "   label                                               text  \\\n",
       "0      0  Once again Mr. Costner has dragged out a movie...   \n",
       "1      0  This is an example of why the majority of acti...   \n",
       "2      0  First of all I hate those moronic rappers, who...   \n",
       "3      0  Not even the Beatles could write songs everyon...   \n",
       "4      0  Brass pictures (movies is not a fitting word f...   \n",
       "\n",
       "                                          clean_text  \n",
       "0  once again mr costner has dragged out movie fo...  \n",
       "1  this is an example of why the majority of acti...  \n",
       "2  first of all hate those moronic rappers who co...  \n",
       "3  not even the beatles could write songs everyon...  \n",
       "4  brass pictures really are somewhat brassy thei...  "
      ]
     },
     "execution_count": 23,
     "metadata": {},
     "output_type": "execute_result"
    }
   ],
   "source": [
    "data_imdb['clean_text'] = data_imdb['text'].apply(clean_data)\n",
    "print('source data_imdb: ', data_imdb.shape)\n",
    "data_imdb.head()"
   ]
  },
  {
   "cell_type": "code",
   "execution_count": 24,
   "metadata": {
    "collapsed": false
   },
   "outputs": [
    {
     "name": "stdout",
     "output_type": "stream",
     "text": [
      "(102610, 3)\n"
     ]
    },
    {
     "data": {
      "text/html": [
       "<div>\n",
       "<table border=\"1\" class=\"dataframe\">\n",
       "  <thead>\n",
       "    <tr style=\"text-align: right;\">\n",
       "      <th></th>\n",
       "      <th>label</th>\n",
       "      <th>text</th>\n",
       "      <th>clean_text</th>\n",
       "    </tr>\n",
       "  </thead>\n",
       "  <tbody>\n",
       "    <tr>\n",
       "      <th>0</th>\n",
       "      <td>1</td>\n",
       "      <td>To an entire generation of filmgoers, it just ...</td>\n",
       "      <td>to an entire generation of filmgoers it just m...</td>\n",
       "    </tr>\n",
       "    <tr>\n",
       "      <th>1</th>\n",
       "      <td>1</td>\n",
       "      <td>Pixar classic is one of the best kids' movies ...</td>\n",
       "      <td>pixar classic is one of the best kids movies o...</td>\n",
       "    </tr>\n",
       "    <tr>\n",
       "      <th>2</th>\n",
       "      <td>1</td>\n",
       "      <td>Apesar de representar um imenso avanço tecnoló...</td>\n",
       "      <td>apesar de representar um imenso avanço tecnoló...</td>\n",
       "    </tr>\n",
       "    <tr>\n",
       "      <th>3</th>\n",
       "      <td>1</td>\n",
       "      <td>When Woody perks up in the opening scene, it's...</td>\n",
       "      <td>when woody perks up in the opening scene it no...</td>\n",
       "    </tr>\n",
       "    <tr>\n",
       "      <th>4</th>\n",
       "      <td>1</td>\n",
       "      <td>Introduced not one but two indelible character...</td>\n",
       "      <td>introduced not one but two indelible character...</td>\n",
       "    </tr>\n",
       "  </tbody>\n",
       "</table>\n",
       "</div>"
      ],
      "text/plain": [
       "   label                                               text  \\\n",
       "0      1  To an entire generation of filmgoers, it just ...   \n",
       "1      1  Pixar classic is one of the best kids' movies ...   \n",
       "2      1  Apesar de representar um imenso avanço tecnoló...   \n",
       "3      1  When Woody perks up in the opening scene, it's...   \n",
       "4      1  Introduced not one but two indelible character...   \n",
       "\n",
       "                                          clean_text  \n",
       "0  to an entire generation of filmgoers it just m...  \n",
       "1  pixar classic is one of the best kids movies o...  \n",
       "2  apesar de representar um imenso avanço tecnoló...  \n",
       "3  when woody perks up in the opening scene it no...  \n",
       "4  introduced not one but two indelible character...  "
      ]
     },
     "execution_count": 24,
     "metadata": {},
     "output_type": "execute_result"
    }
   ],
   "source": [
    "data_rt['clean_text'] = data_rt['text'].apply(clean_data)\n",
    "print('source data_rt: ', data_rt.shape)\n",
    "data_rt.head()"
   ]
  },
  {
   "cell_type": "markdown",
   "metadata": {},
   "source": [
    "### Finalizing data\n",
    "\n",
    "* To replace all stop-words we usel nltk library. Stop words such words as: in, at, over, the, under etc.\n",
    "* As we identified that data also contains non-eglish languages, we decided to remove them. We checked every sentence and if it contaion non ascii signs we make a dision that this sentence is written in another language, so it should be removed.\n",
    "* Also, as there are no Leminizer in Gensim libraty for python 3 and leminizier in NLTK library is worse we decided to perform stemming from NLTK library. (gensim leminizer processes the whole sentence while NLTK can process only word separately. It makes impossible to use Gensim and resource expensive to use NLTK.\n",
    "* We replaced data with empty text field\n",
    "* As fastText needs labels to be marked, our labels are presented ins such way: __label__1 or __label__0"
   ]
  },
  {
   "cell_type": "code",
   "execution_count": 18,
   "metadata": {
    "collapsed": true
   },
   "outputs": [],
   "source": [
    "stop_words = list(set(stopwords.words('english')))\n",
    "stemmer = PorterStemmer()\n",
    "\n",
    "def finalize_data(df):\n",
    "    df['clean_text'] = df['clean_text'].apply(\n",
    "        lambda x: ' '.join([item for item in x.split() if item not in stop_words]))\n",
    "    df['is_ascii'] = df['clean_text'].apply(lambda x: set(x).issubset(letters))\n",
    "    df['letters'] = df['clean_text'].apply(len)\n",
    "    df['words'] = df['clean_text'].apply(lambda x: len(x.split()))\n",
    "    df['stemed_text'] = df['clean_text'].apply(lambda x: \" \".join([stemmer.stem(w) for w in x.split()]))\n",
    "    df['new_label'] = df['label'].apply(lambda x: '__label__1 ' if x == 1 else '__label__0 ')\n",
    "\n",
    "    df = df[df['is_ascii'] == 1]\n",
    "    df = df[df['letters'] > 0]\n",
    "    df = df.reset_index()\n",
    "    df = df.ix[:, ['new_label', 'stemed_text']]\n",
    "\n",
    "    return df"
   ]
  },
  {
   "cell_type": "code",
   "execution_count": 25,
   "metadata": {
    "collapsed": false
   },
   "outputs": [
    {
     "name": "stdout",
     "output_type": "stream",
     "text": [
      "(102610, 3)\n"
     ]
    },
    {
     "data": {
      "text/html": [
       "<div>\n",
       "<table border=\"1\" class=\"dataframe\">\n",
       "  <thead>\n",
       "    <tr style=\"text-align: right;\">\n",
       "      <th></th>\n",
       "      <th>label</th>\n",
       "      <th>text</th>\n",
       "      <th>clean_text</th>\n",
       "    </tr>\n",
       "  </thead>\n",
       "  <tbody>\n",
       "    <tr>\n",
       "      <th>0</th>\n",
       "      <td>1</td>\n",
       "      <td>To an entire generation of filmgoers, it just ...</td>\n",
       "      <td>to an entire generation of filmgoers it just m...</td>\n",
       "    </tr>\n",
       "    <tr>\n",
       "      <th>1</th>\n",
       "      <td>1</td>\n",
       "      <td>Pixar classic is one of the best kids' movies ...</td>\n",
       "      <td>pixar classic is one of the best kids movies o...</td>\n",
       "    </tr>\n",
       "    <tr>\n",
       "      <th>2</th>\n",
       "      <td>1</td>\n",
       "      <td>Apesar de representar um imenso avanço tecnoló...</td>\n",
       "      <td>apesar de representar um imenso avanço tecnoló...</td>\n",
       "    </tr>\n",
       "    <tr>\n",
       "      <th>3</th>\n",
       "      <td>1</td>\n",
       "      <td>When Woody perks up in the opening scene, it's...</td>\n",
       "      <td>when woody perks up in the opening scene it no...</td>\n",
       "    </tr>\n",
       "    <tr>\n",
       "      <th>4</th>\n",
       "      <td>1</td>\n",
       "      <td>Introduced not one but two indelible character...</td>\n",
       "      <td>introduced not one but two indelible character...</td>\n",
       "    </tr>\n",
       "  </tbody>\n",
       "</table>\n",
       "</div>"
      ],
      "text/plain": [
       "   label                                               text  \\\n",
       "0      1  To an entire generation of filmgoers, it just ...   \n",
       "1      1  Pixar classic is one of the best kids' movies ...   \n",
       "2      1  Apesar de representar um imenso avanço tecnoló...   \n",
       "3      1  When Woody perks up in the opening scene, it's...   \n",
       "4      1  Introduced not one but two indelible character...   \n",
       "\n",
       "                                          clean_text  \n",
       "0  to an entire generation of filmgoers it just m...  \n",
       "1  pixar classic is one of the best kids movies o...  \n",
       "2  apesar de representar um imenso avanço tecnoló...  \n",
       "3  when woody perks up in the opening scene it no...  \n",
       "4  introduced not one but two indelible character...  "
      ]
     },
     "execution_count": 25,
     "metadata": {},
     "output_type": "execute_result"
    }
   ],
   "source": [
    "data_imdb = finalize_data(data_imdb)\n",
    "print('cleaned data_imdb: ', data_imdb.shape)\n",
    "data_imdb.head()"
   ]
  },
  {
   "cell_type": "code",
   "execution_count": null,
   "metadata": {
    "collapsed": true
   },
   "outputs": [],
   "source": [
    "data_rt = finalize_data(data_rt)\n",
    "print('cleaned data_rt: ', data_rt.shape)\n",
    "data_rt.head()"
   ]
  },
  {
   "cell_type": "markdown",
   "metadata": {},
   "source": [
    "### Model learning and accuracy evaluation\n",
    "\n",
    "For splitting and evaluation our model we will use __StratifiedShuffleSplit__ function. \n",
    "\n",
    "It's a combination of StratifiedKFold and ShuffleSplit. For each dataset will be teached a model and its accuracy will be evaluated by 5 folds.\n",
    "\n",
    "The main task is to teach 2 clasifiers with different datasets and check how they are applicable to each other. The main difference between data is that imdb has long reviews and rt's reviews are short."
   ]
  },
  {
   "cell_type": "code",
   "execution_count": null,
   "metadata": {
    "collapsed": true
   },
   "outputs": [],
   "source": [
    "sss = StratifiedShuffleSplit(n_splits=5, test_size=0.25, random_state=42)"
   ]
  },
  {
   "cell_type": "code",
   "execution_count": null,
   "metadata": {
    "collapsed": true
   },
   "outputs": [],
   "source": [
    "print('IMDB dataset:\\n')\n",
    "\n",
    "for item in list(sss.split(data_imdb['stemed_text'], data_imdb['new_label'])):\n",
    "    train_index, test_index = item\n",
    "    train_df = data_imdb.ix[train_index]\n",
    "    test_df = data_imdb.ix[test_index]\n",
    "    test_df['label'] = test_df['new_label'].apply(lambda x: int(x.strip()[-1]))\n",
    "    train_df.to_csv('train_imdb.txt', header=False, encoding='utf-8', index=False)\n",
    "    # test_df.to_csv('test_imdb.txt', header=False, encoding='utf-8', index=False)\n",
    "    \n",
    "    start_time = time.time()\n",
    "    classifier = supervised('train_imdb.txt', 'model_imdb', label_prefix='__label__')\n",
    "    learning_time = time.time()\n",
    "    prediction = classifier.predict_proba(list(test_df['stemed_text']))\n",
    "    prediction_time = time.time()\n",
    "    train_predictions = [int(item[0][0]) for item in prediction]\n",
    "    train_probabilities = [item[0][1] for item in prediction]\n",
    "\n",
    "    print(\"=\" * 30)\n",
    "    print('****Results****')\n",
    "    print('Learning model: %d seconds' % round(learning_time - start_time, 2))\n",
    "    print('Cross-validation time: %d seconds' % round(prediction_time - learning_time, 2))\n",
    "    acc = accuracy_score(test_df['label'], train_predictions)\n",
    "    print(\"Accuracy: {:.4%} \\n\".format(acc))"
   ]
  },
  {
   "cell_type": "code",
   "execution_count": null,
   "metadata": {
    "collapsed": true
   },
   "outputs": [],
   "source": [
    "print('RT dataset:\\n')\n",
    "\n",
    "for item in list(sss.split(data_rt['stemed_text'], data_rt['new_label'])):\n",
    "    train_index, test_index = item\n",
    "    train_df = data_rt.ix[train_index]\n",
    "    test_df = data_rt.ix[test_index]\n",
    "    test_df['label'] = test_df['new_label'].apply(lambda x: int(x.strip()[-1]))\n",
    "    train_df.to_csv('train_rt.txt', header=False, encoding='utf-8', index=False)\n",
    "    # test_df.to_csv('test_imdb.txt', header=False, encoding='utf-8', index=False)\n",
    "    \n",
    "    start_time = time.time()\n",
    "    classifier = supervised('train_rt.txt', 'model_rt', label_prefix='__label__')\n",
    "    learning_time = time.time()\n",
    "    prediction = classifier.predict_proba(list(test_df['stemed_text']))\n",
    "    prediction_time = time.time()\n",
    "    train_predictions = [int(item[0][0]) for item in prediction]\n",
    "    train_probabilities = [item[0][1] for item in prediction]\n",
    "\n",
    "    print(\"=\" * 30)\n",
    "    print('****Results****')\n",
    "    print('Learning model: %d seconds' % round(learning_time - start_time, 2))\n",
    "    print('Cross-validation time: %d seconds' % round(prediction_time - learning_time, 2))\n",
    "    acc = accuracy_score(test_df['label'], train_predictions)\n",
    "    print(\"Accuracy: {:.4%} \\n\".format(acc))"
   ]
  },
  {
   "cell_type": "code",
   "execution_count": null,
   "metadata": {
    "collapsed": true
   },
   "outputs": [],
   "source": [
    "print('RT clasifier to IMDB dataset:\\n')\n",
    "\n",
    "data_imdb['label'] = data_imdb['new_label'].apply(lambda x: int(x.strip()[-1]))\n",
    "\n",
    "classifier = load_model('model_rt.bin', label_prefix='__label__')\n",
    "start_time = time.time()\n",
    "prediction = classifier.predict_proba(list(data_imdb['stemed_text']))\n",
    "prediction_time = time.time()\n",
    "data_predictions = [int(item[0][0]) for item in prediction]\n",
    "data_probabilities = [item[0][1] for item in prediction]\n",
    "\n",
    "print(\"=\" * 30)\n",
    "print('****Results****')\n",
    "print('Applying clasifier time: %d seconds' % round(start_time - prediction_time, 2))\n",
    "acc = accuracy_score(data_imdb['label'], train_predictions)\n",
    "print(\"Accuracy: {:.4%} \\n\".format(acc))"
   ]
  },
  {
   "cell_type": "code",
   "execution_count": null,
   "metadata": {
    "collapsed": true
   },
   "outputs": [],
   "source": [
    "print('IMDB clasifier to RT dataset:\\n')\n",
    "\n",
    "data_rt['label'] = data_rt['new_label'].apply(lambda x: int(x.strip()[-1]))\n",
    "\n",
    "classifier = load_model('model_imdb.bin', label_prefix='__label__')\n",
    "start_time = time.time()\n",
    "prediction = classifier.predict_proba(list(data_rt['stemed_text']))\n",
    "prediction_time = time.time()\n",
    "data_predictions = [int(item[0][0]) for item in prediction]\n",
    "data_probabilities = [item[0][1] for item in prediction]\n",
    "\n",
    "print(\"=\" * 30)\n",
    "print('****Results****')\n",
    "print('Applying clasifier time: %d seconds' % round(start_time - prediction_time, 2))\n",
    "acc = accuracy_score(data_rt['label'], train_predictions)\n",
    "print(\"Accuracy: {:.4%} \\n\".format(acc))"
   ]
  }
 ],
 "metadata": {
  "anaconda-cloud": {},
  "kernelspec": {
   "display_name": "Python [conda root]",
   "language": "python",
   "name": "conda-root-py"
  },
  "language_info": {
   "codemirror_mode": {
    "name": "ipython",
    "version": 3
   },
   "file_extension": ".py",
   "mimetype": "text/x-python",
   "name": "python",
   "nbconvert_exporter": "python",
   "pygments_lexer": "ipython3",
   "version": "3.5.2"
  }
 },
 "nbformat": 4,
 "nbformat_minor": 2
}
